{
 "cells": [
  {
   "cell_type": "markdown",
   "metadata": {},
   "source": [
    "# Task 1: Scene Construction"
   ]
  },
  {
   "cell_type": "markdown",
   "metadata": {},
   "source": [
    "## Setup Code / Packages\n",
    "If you are running the code locally follow the instructions [here](../docs/setup.md).\n",
    "\n",
    "If you are using Google Colab make sure to run the cell below to install all dependencies. You will find the starter scene under files."
   ]
  },
  {
   "cell_type": "code",
   "execution_count": null,
   "metadata": {},
   "outputs": [],
   "source": [
    "!pip install mujoco\n",
    "!pip install -q mediapy\n",
    "!wget https://github.com/triton-droids/simulation/blob/onboarding/task1/DropCubeInBinEnv.xml\n",
    "#Download the assets folder\n",
    "!git init temp-repo\n",
    "%cd temp-repo\n",
    "!git remote add -f origin https://github.com/triton-droids/simulation.git\n",
    "!git config core.sparseCheckout true\n",
    "!echo \"assets/*\" >> .git/info/sparse-checkout\n",
    "!git pull origin onboarding\n",
    "%cd ..\n",
    "!mv temp-repo/assets ./assets\n",
    "!rm -rf temp-repo"
   ]
  },
  {
   "cell_type": "markdown",
   "metadata": {},
   "source": [
    "## Import Packages"
   ]
  },
  {
   "cell_type": "code",
   "execution_count": 17,
   "metadata": {},
   "outputs": [],
   "source": [
    "import mujoco as mj\n",
    "import mediapy"
   ]
  },
  {
   "cell_type": "code",
   "execution_count": 18,
   "metadata": {},
   "outputs": [],
   "source": [
    "#Helper render function\n",
    "def render(xml):\n",
    "    model = mj.MjModel.from_xml_path(xml)\n",
    "    data = mj.MjData(model)\n",
    "\n",
    "    with mj.Renderer(model) as renderer:\n",
    "        mj.mj_forward(model, data)\n",
    "        renderer.update_scene(data)\n",
    "\n",
    "        mediapy.show_image(renderer.render())"
   ]
  },
  {
   "cell_type": "code",
   "execution_count": null,
   "metadata": {},
   "outputs": [],
   "source": [
    "render(\"DropCubeInBinEnv.xml\")"
   ]
  },
  {
   "cell_type": "markdown",
   "metadata": {},
   "source": [
    "Save the xml file to your computer (if on colab)"
   ]
  },
  {
   "cell_type": "code",
   "execution_count": null,
   "metadata": {},
   "outputs": [],
   "source": [
    "from google.colab import files\n",
    "files.download(\"DropCubeInBinEnv.xml\")"
   ]
  }
 ],
 "metadata": {
  "kernelspec": {
   "display_name": "gymenv",
   "language": "python",
   "name": "python3"
  },
  "language_info": {
   "codemirror_mode": {
    "name": "ipython",
    "version": 3
   },
   "file_extension": ".py",
   "mimetype": "text/x-python",
   "name": "python",
   "nbconvert_exporter": "python",
   "pygments_lexer": "ipython3",
   "version": "3.12.8"
  }
 },
 "nbformat": 4,
 "nbformat_minor": 2
}
