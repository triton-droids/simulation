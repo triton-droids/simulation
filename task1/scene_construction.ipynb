{
    "cells": [
        {
            "cell_type": "markdown",
            "metadata": {},
            "source": [
                "# Task 1: Scene Construction"
            ]
        },
        {
            "cell_type": "markdown",
            "metadata": {},
            "source": [
                "## Setup Code / Packages\n",
                "Follow the instructions to download MuJoCo and setup your environment [here](../docs/setup.md).\n"
            ]
        },
        {
            "cell_type": "markdown",
            "metadata": {},
            "source": [
                "## Import Packages"
            ]
        },
        {
            "cell_type": "code",
            "execution_count": 5,
            "metadata": {},
            "outputs": [],
            "source": [
                "import mujoco as mj\n",
                "import mediapy"
            ]
        },
        {
            "cell_type": "code",
            "execution_count": 6,
            "metadata": {},
            "outputs": [],
            "source": [
                "def render(xml_path: str, camera_name: str | None = None):\n",
                "    model = mj.MjModel.from_xml_path(xml_path)\n",
                "    data = mj.MjData(model)\n",
                "    camera_id = mj.mj_name2id(model, mj.mjtObj.mjOBJ_CAMERA, camera_name)\n",
                "\n",
                "\n",
                "    with mj.Renderer(model) as renderer:\n",
                "        mj.mj_forward(model, data)\n",
                "        renderer.update_scene(data, camera_id)\n",
                "        image = renderer.render()\n",
                "        mediapy.show_image(image)"
            ]
        },
        {
            "cell_type": "markdown",
            "metadata": {},
            "source": [
                "Add the desired objects into the xml file. Fix the camera viewing angle inside of the xml to get a good view of the scene."
            ]
        },
        {
            "cell_type": "code",
            "execution_count": 15,
            "metadata": {},
            "outputs": [
                {
                    "ename": "ValueError",
                    "evalue": "Error: Error opening file '../assets/descriptions/../assets/descriptions/simpleTable/wood1.png': No such file or directory",
                    "output_type": "error",
                    "traceback": [
                        "\u001b[0;31m---------------------------------------------------------------------------\u001b[0m",
                        "\u001b[0;31mValueError\u001b[0m                                Traceback (most recent call last)",
                        "Cell \u001b[0;32mIn[15], line 1\u001b[0m\n\u001b[0;32m----> 1\u001b[0m \u001b[43mrender\u001b[49m\u001b[43m(\u001b[49m\u001b[38;5;124;43m'\u001b[39;49m\u001b[38;5;124;43m../assets/descriptions/DropCubeInBinEnv.xml\u001b[39;49m\u001b[38;5;124;43m'\u001b[39;49m\u001b[43m,\u001b[49m\u001b[43m \u001b[49m\u001b[43mcamera_name\u001b[49m\u001b[38;5;241;43m=\u001b[39;49m\u001b[38;5;124;43m\"\u001b[39;49m\u001b[38;5;124;43mfixed\u001b[39;49m\u001b[38;5;124;43m\"\u001b[39;49m\u001b[43m)\u001b[49m\n",
                        "Cell \u001b[0;32mIn[6], line 2\u001b[0m, in \u001b[0;36mrender\u001b[0;34m(xml_path, camera_name)\u001b[0m\n\u001b[1;32m      1\u001b[0m \u001b[38;5;28;01mdef\u001b[39;00m\u001b[38;5;250m \u001b[39m\u001b[38;5;21mrender\u001b[39m(xml_path: \u001b[38;5;28mstr\u001b[39m, camera_name: \u001b[38;5;28mstr\u001b[39m \u001b[38;5;241m|\u001b[39m \u001b[38;5;28;01mNone\u001b[39;00m \u001b[38;5;241m=\u001b[39m \u001b[38;5;28;01mNone\u001b[39;00m):\n\u001b[0;32m----> 2\u001b[0m     model \u001b[38;5;241m=\u001b[39m \u001b[43mmj\u001b[49m\u001b[38;5;241;43m.\u001b[39;49m\u001b[43mMjModel\u001b[49m\u001b[38;5;241;43m.\u001b[39;49m\u001b[43mfrom_xml_path\u001b[49m\u001b[43m(\u001b[49m\u001b[43mxml_path\u001b[49m\u001b[43m)\u001b[49m\n\u001b[1;32m      3\u001b[0m     data \u001b[38;5;241m=\u001b[39m mj\u001b[38;5;241m.\u001b[39mMjData(model)\n\u001b[1;32m      4\u001b[0m     camera_id \u001b[38;5;241m=\u001b[39m mj\u001b[38;5;241m.\u001b[39mmj_name2id(model, mj\u001b[38;5;241m.\u001b[39mmjtObj\u001b[38;5;241m.\u001b[39mmjOBJ_CAMERA, camera_name)\n",
                        "\u001b[0;31mValueError\u001b[0m: Error: Error opening file '../assets/descriptions/../assets/descriptions/simpleTable/wood1.png': No such file or directory"
                    ]
                }
            ],
            "source": [
                "render('PUT ABSOLUTE PATH HERE', camera_name=\"fixed\")"
            ]
        }
    ],
    "metadata": {
        "kernelspec": {
            "display_name": "simulation",
            "language": "python",
            "name": "python3"
        },
        "language_info": {
            "codemirror_mode": {
                "name": "ipython",
                "version": 3
            },
            "file_extension": ".py",
            "mimetype": "text/x-python",
            "name": "python",
            "nbconvert_exporter": "python",
            "pygments_lexer": "ipython3",
            "version": "3.13.2"
        }
    },
    "nbformat": 4,
    "nbformat_minor": 2
}
