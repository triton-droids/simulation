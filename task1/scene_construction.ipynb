{
    "cells": [
        {
            "cell_type": "markdown",
            "metadata": {},
            "source": [
                "# Task 1: Scene Construction"
            ]
        },
        {
            "cell_type": "markdown",
            "metadata": {},
            "source": [
                "## Setup Code / Packages\n",
                "Follow the instructions to download MuJoCo and setup your environment [here](../docs/setup.md).\n"
            ]
        },
        {
            "cell_type": "markdown",
            "metadata": {},
            "source": [
                "## Import Packages"
            ]
        },
        {
            "cell_type": "code",
            "execution_count": 1,
            "metadata": {},
            "outputs": [],
            "source": [
                "import mujoco as mj\n",
                "import mediapy"
            ]
        },
        {
            "cell_type": "code",
            "execution_count": 8,
            "metadata": {},
            "outputs": [],
            "source": [
                "def render(xml_path, camera_name=None):\n",
                "    model = mj.MjModel.from_xml_path(xml_path)\n",
                "    data = mj.MjData(model)\n",
                "    camera_id = mj.mj_name2id(model, mj.mjtObj.mjOBJ_CAMERA, camera_name)\n",
                "\n",
                "\n",
                "    with mj.Renderer(model) as renderer:\n",
                "        mj.mj_forward(model, data)\n",
                "        renderer.update_scene(data, camera_id)\n",
                "\n",
                "        # If a camera name is provided, use it\n",
                "        if camera_name:\n",
                "            image = renderer.render()\n",
                "        else:\n",
                "            # Default camera\n",
                "            image = renderer.render()\n",
                "\n",
                "        mediapy.show_image(image)"
            ]
        },
        {
            "cell_type": "markdown",
            "metadata": {},
            "source": [
                "Add the desired objects into the xml file. Fix the camera viewing angle to get a good view of the scene."
            ]
        },
        {
            "cell_type": "code",
            "execution_count": null,
            "metadata": {},
            "outputs": [],
            "source": [
                "render('PUT ABSOLUTE PATH HERE', camera_name=\"fixed\")"
            ]
        }
    ],
    "metadata": {
        "kernelspec": {
            "display_name": "gymenv",
            "env": {
                "PYTHONPATH": "simulation"
            },
            "language": "python",
            "name": "python3"
        },
        "language_info": {
            "codemirror_mode": {
                "name": "ipython",
                "version": 3
            },
            "file_extension": ".py",
            "mimetype": "text/x-python",
            "name": "python",
            "nbconvert_exporter": "python",
            "pygments_lexer": "ipython3",
            "version": "3.12.8"
        }
    },
    "nbformat": 4,
    "nbformat_minor": 2
}
